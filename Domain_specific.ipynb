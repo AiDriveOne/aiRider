{
  "nbformat": 4,
  "nbformat_minor": 0,
  "metadata": {
    "colab": {
      "private_outputs": true,
      "provenance": [],
      "authorship_tag": "ABX9TyNS3UGTVFcRPzfURulkeN2r",
      "include_colab_link": true
    },
    "kernelspec": {
      "name": "python3",
      "display_name": "Python 3"
    },
    "language_info": {
      "name": "python"
    }
  },
  "cells": [
    {
      "cell_type": "markdown",
      "metadata": {
        "id": "view-in-github",
        "colab_type": "text"
      },
      "source": [
        "<a href=\"https://colab.research.google.com/github/AiDriveOne/aiRider/blob/main/Domain_specific.ipynb\" target=\"_parent\"><img src=\"https://colab.research.google.com/assets/colab-badge.svg\" alt=\"Open In Colab\"/></a>"
      ]
    },
    {
      "cell_type": "code",
      "execution_count": null,
      "metadata": {
        "id": "gQJRL07pCKSI"
      },
      "outputs": [],
      "source": [
        "import tensorflow as tf\n",
        "from tensorflow.keras.preprocessing.text import Tokenizer\n",
        "from tensorflow.keras.preprocessing.sequence import pad_sequences\n",
        "from sklearn.model_selection import train_test_split\n",
        "import numpy as np\n",
        "import logging"
      ]
    },
    {
      "cell_type": "code",
      "source": [
        "\n",
        "# Set up logging\n",
        "logging.basicConfig(level=logging.INFO)\n",
        "logger = logging.getLogger(__name__)"
      ],
      "metadata": {
        "id": "7rInQmA8DacA"
      },
      "execution_count": null,
      "outputs": []
    },
    {
      "cell_type": "code",
      "source": [
        "# Example input-output pairs\n",
        "inputs = [\n",
        "    \"Design a user-friendly login screen\",\n",
        "    \"Create an intuitive navigation menu\",\n",
        "    \"Design a visually appealing landing page\"\n",
        "]\n",
        "outputs = [\n",
        "    \"Use a clean and simple layout, with prominent login fields and clear labels\",\n",
        "    \"Implement a responsive menu that is easy to navigate and visually consistent\",\n",
        "    \"Incorporate eye-catching visuals, an enticing headline, and clear call-to-action buttons\"\n",
        "]"
      ],
      "metadata": {
        "id": "na9lL3UCD24I"
      },
      "execution_count": null,
      "outputs": []
    },
    {
      "cell_type": "code",
      "source": [
        "# Data preprocessing\n",
        "def preprocess_data(inputs, outputs):\n",
        "    # Handle missing or inconsistent data\n",
        "    if len(inputs) != len(outputs):\n",
        "        raise ValueError(\"Number of inputs and outputs should be equal.\")"
      ],
      "metadata": {
        "id": "kw6uj7QxECjk"
      },
      "execution_count": null,
      "outputs": []
    },
    {
      "cell_type": "code",
      "source": [
        "# Data preprocessing\n",
        "def preprocess_data(inputs, outputs):\n",
        "    # Handle missing or inconsistent data\n",
        "    if len(inputs) != len(outputs):\n",
        "        raise ValueError(\"Number of inputs and outputs should be equal.\")\n",
        "\n",
        "    # Clean and normalize input-output pairs\n",
        "    cleaned_inputs = [clean_text(input_text) for input_text in inputs]\n",
        "    cleaned_outputs = [clean_text(output_text) for output_text in outputs]\n",
        "\n",
        "    return cleaned_inputs, cleaned_outputs\n"
      ],
      "metadata": {
        "id": "GVeZ5bKBEvJ1"
      },
      "execution_count": null,
      "outputs": []
    },
    {
      "cell_type": "code",
      "source": [
        "# Data augmentation\n",
        "def augment_data(inputs, outputs):\n",
        "    # Implement data augmentation techniques if required\n",
        "    augmented_inputs = inputs\n",
        "    augmented_outputs = outputs\n",
        "    # Additional augmentation steps if required\n",
        "    return augmented_inputs, augmented_outputs\n"
      ],
      "metadata": {
        "id": "eI5kP_8JE2V-"
      },
      "execution_count": null,
      "outputs": []
    },
    {
      "cell_type": "code",
      "source": [
        "# Data augmentation\n",
        "def augment_data(inputs, outputs):\n",
        "    # Implement data augmentation techniques if required\n",
        "    augmented_inputs = inputs\n",
        "    augmented_outputs = outputs\n",
        "    # Additional augmentation steps if required\n",
        "    return augmented_inputs, augmented_outputs"
      ],
      "metadata": {
        "id": "OYME-r_YE8Sf"
      },
      "execution_count": null,
      "outputs": []
    },
    {
      "cell_type": "code",
      "source": [
        "# Augment the data\n",
        "inputs, outputs = augment_data(inputs, outputs)"
      ],
      "metadata": {
        "id": "b2yNTILRFB5D"
      },
      "execution_count": null,
      "outputs": []
    },
    {
      "cell_type": "code",
      "source": [
        "# Split the data into train, validation, and test sets\n",
        "train_inputs, test_inputs, train_outputs, test_outputs = train_test_split(inputs, outputs, test_size=0.2, random_state=42)\n",
        "train_inputs, val_inputs, train_outputs, val_outputs = train_test_split(train_inputs, train_outputs, test_size=0.2, random_state=42)"
      ],
      "metadata": {
        "id": "UGESMPpEFIAM"
      },
      "execution_count": null,
      "outputs": []
    },
    {
      "cell_type": "code",
      "source": [
        "# Tokenize the input sequences\n",
        "tokenizer = Tokenizer()\n",
        "tokenizer.fit_on_texts(train_inputs)\n",
        "train_input_sequences = tokenizer.texts_to_sequences(train_inputs)\n",
        "val_input_sequences = tokenizer.texts_to_sequences(val_inputs)\n",
        "test_input_sequences = tokenizer.texts_to_sequences(test_inputs)"
      ],
      "metadata": {
        "id": "P-6NVR-IFOKg"
      },
      "execution_count": null,
      "outputs": []
    },
    {
      "cell_type": "code",
      "source": [
        "# Pad the input sequences\n",
        "max_seq_length = max([len(seq) for seq in train_input_sequences])\n",
        "train_padded_inputs = pad_sequences(train_input_sequences, maxlen=max_seq_length, padding='post')\n",
        "val_padded_inputs = pad_sequences(val_input_sequences, maxlen=max_seq_length, padding='post')\n",
        "test_padded_inputs = pad_sequences(test_input_sequences, maxlen=max_seq_length, padding='post')"
      ],
      "metadata": {
        "id": "JXwmz6fKFXeH"
      },
      "execution_count": null,
      "outputs": []
    },
    {
      "cell_type": "code",
      "source": [
        "# Tokenize the output sequences\n",
        "tokenizer.fit_on_texts(train_outputs)\n",
        "train_output_sequences = tokenizer.texts_to_sequences(train_outputs)\n",
        "val_output_sequences = tokenizer.texts_to_sequences(val_outputs)\n",
        "test_output_sequences = tokenizer.texts_to_sequences(test_outputs)"
      ],
      "metadata": {
        "id": "QvVmWrivFfKR"
      },
      "execution_count": null,
      "outputs": []
    },
    {
      "cell_type": "code",
      "source": [
        "# Pad the output sequences\n",
        "train_padded_outputs = pad_sequences(train_output_sequences, maxlen=max_seq_length, padding='post')\n",
        "val_padded_outputs = pad_sequences(val_output_sequences, maxlen=max_seq_length, padding='post')\n",
        "test_padded_outputs = pad_sequences(test_output_sequences, maxlen=max_seq_length, padding='post')"
      ],
      "metadata": {
        "id": "2qGABqq5Fpu0"
      },
      "execution_count": null,
      "outputs": []
    },
    {
      "cell_type": "code",
      "source": [
        "# Build the model\n",
        "vocab_size = len(tokenizer.word_index) + 1\n",
        "embedding_dim = 100\n",
        "\n",
        "model = tf.keras.Sequential([\n",
        "    tf.keras.layers.Embedding(vocab_size, embedding_dim, input_length=max_seq_length),\n",
        "    tf.keras.layers.Bidirectional(tf.keras.layers.GRU(32, dropout=0.2, recurrent_dropout=0.2)),\n",
        "    tf.keras.layers.Dense(vocab_size, activation='softmax')\n",
        "])"
      ],
      "metadata": {
        "id": "eTCKyQ_LF1gk"
      },
      "execution_count": null,
      "outputs": []
    },
    {
      "cell_type": "code",
      "source": [
        "# Compile the model\n",
        "model.compile(loss='sparse_categorical_crossentropy', optimizer='adam', metrics=['accuracy'])\n",
        "\n",
        "# Training callbacks\n",
        "early_stopping = tf.keras.callbacks.EarlyStopping(monitor='val_loss', patience=3, restore_best_weights=True)"
      ],
      "metadata": {
        "id": "mg1nabluF9nI"
      },
      "execution_count": null,
      "outputs": []
    },
    {
      "cell_type": "code",
      "source": [
        "# Set up logging\n",
        "logging.basicConfig(level=logging.INFO)\n",
        "logger = logging.getLogger(__name__)\n",
        "\n",
        "# Example input-output pairs\n",
        "inputs = [\n",
        "    \"Design a user-friendly login screen\",\n",
        "    \"Create an intuitive navigation menu\",\n",
        "    \"Design a visually appealing landing page\"\n",
        "]\n",
        "outputs = [\n",
        "    \"Use a clean and simple layout, with prominent login fields and clear labels\",\n",
        "    \"Implement a responsive menu that is easy to navigate and visually consistent\",\n",
        "    \"Incorporate eye-catching visuals, an enticing headline, and clear call-to-action buttons\"\n",
        "]\n",
        "\n",
        "# Data preprocessing\n",
        "def preprocess_data(inputs, outputs):\n",
        "    # Handle missing or inconsistent data\n",
        "    if len(inputs) != len(outputs):\n",
        "        raise ValueError(\"Number of inputs and outputs should be equal.\")\n",
        "\n",
        "    # Clean and normalize input-output pairs\n",
        "    cleaned_inputs = [clean_text(input_text) for input_text in inputs]\n",
        "    cleaned_outputs = [clean_text(output_text) for output_text in outputs]\n",
        "\n",
        "    return cleaned_inputs, cleaned_outputs\n",
        "\n",
        "def clean_text(text):\n",
        "    # Implement text cleaning and normalization steps\n",
        "    cleaned_text = text.lower().strip()\n",
        "    # Additional cleaning steps if required\n",
        "    return cleaned_text\n",
        "\n",
        "# Data augmentation\n",
        "def augment_data(inputs, outputs):\n",
        "    # Implement data augmentation techniques if required\n",
        "    augmented_inputs = inputs\n",
        "    augmented_outputs = outputs\n",
        "    # Additional augmentation steps if required\n",
        "    return augmented_inputs, augmented_outputs\n",
        "\n",
        "# Preprocess the data\n",
        "inputs, outputs = preprocess_data(inputs, outputs)\n",
        "\n",
        "# Augment the data\n",
        "inputs, outputs = augment_data(inputs, outputs)\n",
        "\n",
        "# Split the data into train, validation, and test sets\n",
        "train_inputs, test_inputs, train_outputs, test_outputs = train_test_split(inputs, outputs, test_size=0.2, random_state=42)\n",
        "train_inputs, val_inputs, train_outputs, val_outputs = train_test_split(train_inputs, train_outputs, test_size=0.2, random_state=42)\n",
        "\n",
        "# Tokenize the input sequences\n",
        "tokenizer = Tokenizer()\n",
        "tokenizer.fit_on_texts(train_inputs)\n",
        "train_input_sequences = tokenizer.texts_to_sequences(train_inputs)\n",
        "val_input_sequences = tokenizer.texts_to_sequences(val_inputs)\n",
        "test_input_sequences = tokenizer.texts_to_sequences(test_inputs)\n",
        "\n",
        "# Pad the input sequences\n",
        "max_seq_length = max([len(seq) for seq in train_input_sequences])\n",
        "train_padded_inputs = pad_sequences(train_input_sequences, maxlen=max_seq_length, padding='post')\n",
        "val_padded_inputs = pad_sequences(val_input_sequences, maxlen=max_seq_length, padding='post')\n",
        "test_padded_inputs = pad_sequences(test_input_sequences, maxlen=max_seq_length, padding='post')\n",
        "\n",
        "# Tokenize the output sequences\n",
        "tokenizer.fit_on_texts(train_outputs)\n",
        "train_output_sequences = tokenizer.texts_to_sequences(train_outputs)\n",
        "val_output_sequences = tokenizer.texts_to_sequences(val_outputs)\n",
        "test_output_sequences = tokenizer.texts_to_sequences(test_outputs)\n",
        "\n",
        "# Pad the output sequences\n",
        "train_padded_outputs = pad_sequences(train_output_sequences, maxlen=max_seq_length, padding='post')\n",
        "val_padded_outputs = pad_sequences(val_output_sequences, maxlen=max_seq_length, padding='post')\n",
        "test_padded_outputs = pad_sequences(test_output_sequences, maxlen=max_seq_length, padding='post')\n",
        "\n",
        "# Set the correct vocab_size based on the total number of unique classes or tokens in your dataset\n",
        "vocab_size = len(tokenizer.word_index) + 1  # Add 1 to account for the padding token (0-indexed)\n",
        "\n",
        "# Build the model\n",
        "embedding_dim = 100\n",
        "\n",
        "model = tf.keras.Sequential([\n",
        "    tf.keras.layers.Embedding(vocab_size, embedding_dim, input_length=max_seq_length),\n",
        "    tf.keras.layers.Bidirectional(tf.keras.layers.GRU(32, dropout=0.2, recurrent_dropout=0.2)),\n",
        "    tf.keras.layers.Dense(vocab_size, activation='softmax')\n",
        "])\n",
        "\n",
        "# Compile the model\n",
        "model.compile(loss='sparse_categorical_crossentropy', optimizer='adam', metrics=['accuracy'])\n",
        "\n",
        "# ..."
      ],
      "metadata": {
        "id": "ZaRM6D38ICzO"
      },
      "execution_count": null,
      "outputs": []
    }
  ]
}